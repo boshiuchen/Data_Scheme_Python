{
 "cells": [
  {
   "cell_type": "code",
   "execution_count": 12,
   "id": "8dc52176-e217-4b87-8312-fa2ecce22a02",
   "metadata": {},
   "outputs": [],
   "source": [
    "# Structured easier syntax\n",
    "\"\"\"https://www.graphviz.org/pdf/dotguide.pdf, Figure 12\"\"\"\n",
    "\n",
    "# import needed packages\n",
    "import graphviz\n",
    "import pandas as pd\n",
    "import openpyxl"
   ]
  },
  {
   "cell_type": "code",
   "execution_count": 25,
   "id": "0a6be823-05e0-4b8f-b096-db36a52247c2",
   "metadata": {},
   "outputs": [],
   "source": [
    "def generate_string_from_excel(file_path, sheet_name):\n",
    "    # Read the Excel file\n",
    "    data_frame = pd.read_excel(file_path, sheet_name=sheet_name, header=None)\n",
    "\n",
    "    # Get the active sheet\n",
    "    workbook = openpyxl.load_workbook(file_path)\n",
    "    sheet = workbook[sheet_name]\n",
    "\n",
    "    # Generate the string\n",
    "    string = ''\n",
    "    num_columns = data_frame.shape[1]\n",
    "    for col in range(num_columns):\n",
    "        column = data_frame.iloc[:, col]\n",
    "        string += '{'\n",
    "        for index, cell_content in enumerate(column):\n",
    "            cell_reference = sheet.cell(row=index+1, column=col+1).coordinate\n",
    "            string += f'<{cell_reference}> {cell_content} |'\n",
    "        string = string.rstrip('|')\n",
    "        string += '}'\n",
    "        string += '|'\n",
    "        \n",
    "    string = string.rstrip('|')\n",
    "        \n",
    "    #print(string)\n",
    "    return string"
   ]
  },
  {
   "cell_type": "code",
   "execution_count": 26,
   "id": "ab7736ea-f003-40ac-a4dc-41ea25364f6d",
   "metadata": {},
   "outputs": [
    {
     "data": {
      "text/plain": [
       "'Data_Schema_Result.gv.pdf'"
      ]
     },
     "execution_count": 26,
     "metadata": {},
     "output_type": "execute_result"
    }
   ],
   "source": [
    "# Setup\n",
    "s = graphviz.Digraph('Structures', filename='Data_Schema_Result.gv',node_attr={'shape': 'record'})\n",
    "\n",
    "# Makes the graph horizontal\n",
    "s.attr(rankdir='LR')\n",
    "\n",
    "# Code here\n",
    "\n",
    "###\n",
    "\n",
    "# Provide the path to your Excel file and sheet name\n",
    "excel_file_path = 'Data_Schema_Input.xlsx'\n",
    "\n",
    "# Storing sheet names into a dictionary\n",
    "xls = pd.read_excel(excel_file_path, sheet_name = None, header=None)\n",
    "\n",
    "sheet_list=list(xls.keys())\n",
    "sheet_list\n",
    "sheet_list.remove(\"Relationships\")\n",
    "for sheets in sheet_list:\n",
    "    s.node(sheets,generate_string_from_excel(excel_file_path,sheets))\n",
    "\n",
    "# Enter data for edges\n",
    "# Read in data for relationships\n",
    "edges_df = pd.read_excel('Data_Schema_Input.xlsx', sheet_name='Relationships')\n",
    "#display(edges_df)\n",
    "\n",
    "# Create a list to contain relationship data\n",
    "list_edges=[]\n",
    "\n",
    "# input relationship data into list\n",
    "for index, row in edges_df.iterrows():\n",
    "    #print(row['SRC'],\"  &  \",row['DST'])\n",
    "    list_edges.append((row['SRC'], row['DST']))\n",
    "\n",
    "s.edges(list_edges)\n",
    "###\n",
    "\n",
    "# End product\n",
    "s.view()"
   ]
  },
  {
   "cell_type": "code",
   "execution_count": 2,
   "id": "6243bd8d-e129-4a1a-8e4c-5f536b1daace",
   "metadata": {},
   "outputs": [],
   "source": [
    "# Storing sheet names into a dictionary\n",
    "xls = pd.read_excel('Data_Schema_Input.xlsx', sheet_name = None, header=None)"
   ]
  },
  {
   "cell_type": "code",
   "execution_count": 10,
   "id": "b1875c53-d63d-4729-825e-4c92de4a0a0f",
   "metadata": {},
   "outputs": [],
   "source": [
    "sheet_list=list(xls.keys())\n",
    "sheet_list\n",
    "sheet_list.remove(\"Relationships\")"
   ]
  },
  {
   "cell_type": "code",
   "execution_count": 9,
   "id": "0d10f4cd-7924-452b-ae1a-5665789f4896",
   "metadata": {
    "tags": []
   },
   "outputs": [
    {
     "name": "stdout",
     "output_type": "stream",
     "text": [
      "                0             1\n",
      "0             SRC           DST\n",
      "1  order_items:B2     orders:A2\n",
      "2  order_items:B3   products:B2\n",
      "3     products:B3  merchants:A2\n",
      "4     mechants:B4      users:A2\n",
      "5     mechants:B5  countries:A2\n",
      "6       orders:B3      users:A2\n",
      "7    countries:B2      users:A7\n",
      "             0    1\n",
      "0  order_items  NaN\n",
      "1     order_id  int\n",
      "2   product_id  int\n",
      "3     quantity  int\n",
      "            0        1\n",
      "0      orders      NaN\n",
      "1          id      int\n",
      "2     user_id      int\n",
      "3      status  varchar\n",
      "4  created_at  varchar\n",
      "               0        1\n",
      "0          users      NaN\n",
      "1             id      int\n",
      "2      full_name  varchar\n",
      "3          email  varchar\n",
      "4         gender  varchar\n",
      "5  date_of_birth  varchar\n",
      "6   country_code      int\n",
      "7     created_at  varchar\n",
      "                0        1\n",
      "0       countries      NaN\n",
      "1            code      int\n",
      "2            name  varchar\n",
      "3  continent_name  varchar\n",
      "               0        1\n",
      "0      merchants      NaN\n",
      "1             id      int\n",
      "2  merchant_name  varchar\n",
      "3       admin_id      int\n",
      "4   country_code      int\n",
      "5     created_at  varchar\n",
      "             0        1\n",
      "0     products      NaN\n",
      "1           id      int\n",
      "2  merchant_id      int\n",
      "3         name  varchar\n",
      "4        price      int\n",
      "5       status  varchar\n",
      "6   created_at  varchar\n"
     ]
    }
   ],
   "source": [
    "for sheets in sheet_list:\n",
    "    table_df =xls.get(sheets)\n",
    "    print(table_df)"
   ]
  },
  {
   "cell_type": "code",
   "execution_count": 9,
   "id": "ae5c14a8-047b-412d-a52b-0297cbf1f352",
   "metadata": {
    "tags": []
   },
   "outputs": [],
   "source": [
    "# list_edges=[('struct1:f1', 'struct5:1'), ('struct1:f2', 'struct5:3')]\n",
    "list_edges=[]"
   ]
  },
  {
   "cell_type": "code",
   "execution_count": 10,
   "id": "97d135cc-57a2-4133-9bfa-4cba01688b7f",
   "metadata": {
    "tags": []
   },
   "outputs": [],
   "source": [
    "for index, row in edges_df.iterrows():\n",
    "    #print(row['SRC'],\"  &  \",row['DST'])\n",
    "    list_edges.append((row['SRC'], row['DST']))"
   ]
  },
  {
   "cell_type": "code",
   "execution_count": 22,
   "id": "58aa559d-cb90-4eec-90c9-893509432a6c",
   "metadata": {
    "tags": []
   },
   "outputs": [
    {
     "data": {
      "text/plain": [
       "[('order_items:B1', 'orders:A1'),\n",
       " ('order_items:B2', 'products:B1'),\n",
       " ('products:B2', 'merchants:A1'),\n",
       " ('mechants:B3', 'users:A1'),\n",
       " ('mechants:B4', 'countries:A1'),\n",
       " ('orders:B2', 'users:A1'),\n",
       " ('countries:B1', 'users:A6')]"
      ]
     },
     "execution_count": 22,
     "metadata": {},
     "output_type": "execute_result"
    }
   ],
   "source": [
    "list_edges"
   ]
  },
  {
   "cell_type": "code",
   "execution_count": 5,
   "id": "8f9ad8d7-5d32-44dc-80be-2a4aedbe9e15",
   "metadata": {
    "jupyter": {
     "source_hidden": true
    },
    "tags": []
   },
   "outputs": [],
   "source": [
    "# constructs the nodes\n",
    "\n",
    "# What you need\n",
    "# name of excel sheet, in the same string: tag auto generated, content\n",
    "def construct_nodes(df):\n",
    "    print(df)\n",
    "    s.node('struct1', '<f0> left|<f1> middle|<f2> right|')\n",
    "    s.node('struct2', '<f0> one|<f1> two')\n",
    "    s.node('struct3', r'hello\\nworld |{ b |{c|<here> d|e}| f}| g | h')\n",
    "    s.node('struct4', r'{ <table1>First |{<table2> Second}|<table3> Third}')\n",
    "    s.node('struct5', r' { <1> First | <2> Second | <3> Third }|{ <1> Row |<2> Row | <3> Row }')\n",
    "\n",
    "    s.edges([('struct1:f1', 'struct5:1'), ('struct1:f2', 'struct5:3')])\n",
    "    s.edges([('struct1:f1', 'struct4:table1'), ('struct1:f2', 'struct4:table3')])"
   ]
  }
 ],
 "metadata": {
  "kernelspec": {
   "display_name": "Python 3 (ipykernel)",
   "language": "python",
   "name": "python3"
  },
  "language_info": {
   "codemirror_mode": {
    "name": "ipython",
    "version": 3
   },
   "file_extension": ".py",
   "mimetype": "text/x-python",
   "name": "python",
   "nbconvert_exporter": "python",
   "pygments_lexer": "ipython3",
   "version": "3.9.12"
  }
 },
 "nbformat": 4,
 "nbformat_minor": 5
}
